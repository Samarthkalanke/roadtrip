{
 "cells": [
  {
   "attachments": {},
   "cell_type": "markdown",
   "metadata": {},
   "source": [
    "CAR DATA"
   ]
  },
  {
   "cell_type": "code",
   "execution_count": 1,
   "metadata": {},
   "outputs": [
    {
     "name": "stdout",
     "output_type": "stream",
     "text": [
      "{\"message\":\"You are not subscribed to this API.\"}\n",
      "{\"message\":\"Too many requests\"}\n",
      "{\"message\":\"Too many requests\"}\n",
      "{\"message\":\"Too many requests\"}\n"
     ]
    }
   ],
   "source": [
    "# TEST\n",
    "import http.client\n",
    "\n",
    "conn = http.client.HTTPSConnection(\"car-data.p.rapidapi.com\")\n",
    "\n",
    "headers = {\n",
    "    'X-RapidAPI-Key': \"669bee5e4bmsh2f92daaaa7f267bp19f60bjsn18857367786d\",\n",
    "    'X-RapidAPI-Host': \"car-data.p.rapidapi.com\"\n",
    "    }\n",
    "\n",
    "conn.request(\"GET\", \"/cars?limit=10&page=0\", headers=headers)\n",
    "\n",
    "res = conn.getresponse()\n",
    "data = res.read()\n",
    "\n",
    "print(data.decode(\"utf-8\"))\n",
    "\n",
    "# TEST\n",
    "import http.client\n",
    "\n",
    "conn = http.client.HTTPSConnection(\"car-data.p.rapidapi.com\")\n",
    "\n",
    "headers = {\n",
    "    'X-RapidAPI-Key': \"669bee5e4bmsh2f92daaaa7f267bp19f60bjsn18857367786d\",\n",
    "    'X-RapidAPI-Host': \"car-data.p.rapidapi.com\"\n",
    "    }\n",
    "\n",
    "conn.request(\"GET\", \"/cars/types\", headers=headers)\n",
    "\n",
    "res = conn.getresponse()\n",
    "data = res.read()\n",
    "\n",
    "print(data.decode(\"utf-8\"))\n",
    "\n",
    "# TEST\n",
    "import http.client\n",
    "\n",
    "conn = http.client.HTTPSConnection(\"car-data.p.rapidapi.com\")\n",
    "\n",
    "headers = {\n",
    "    'X-RapidAPI-Key': \"669bee5e4bmsh2f92daaaa7f267bp19f60bjsn18857367786d\",\n",
    "    'X-RapidAPI-Host': \"car-data.p.rapidapi.com\"\n",
    "    }\n",
    "\n",
    "conn.request(\"GET\", \"/cars/makes\", headers=headers)\n",
    "\n",
    "res = conn.getresponse()\n",
    "data = res.read()\n",
    "\n",
    "print(data.decode(\"utf-8\"))\n",
    "\n",
    "# TEST\n",
    "import http.client\n",
    "\n",
    "conn = http.client.HTTPSConnection(\"car-data.p.rapidapi.com\")\n",
    "\n",
    "headers = {\n",
    "    'X-RapidAPI-Key': \"669bee5e4bmsh2f92daaaa7f267bp19f60bjsn18857367786d\",\n",
    "    'X-RapidAPI-Host': \"car-data.p.rapidapi.com\"\n",
    "    }\n",
    "\n",
    "conn.request(\"GET\", \"/cars/years\", headers=headers)\n",
    "\n",
    "res = conn.getresponse()\n",
    "data = res.read()\n",
    "\n",
    "print(data.decode(\"utf-8\"))"
   ]
  }
 ],
 "metadata": {
  "kernelspec": {
   "display_name": "base",
   "language": "python",
   "name": "python3"
  },
  "language_info": {
   "codemirror_mode": {
    "name": "ipython",
    "version": 3
   },
   "file_extension": ".py",
   "mimetype": "text/x-python",
   "name": "python",
   "nbconvert_exporter": "python",
   "pygments_lexer": "ipython3",
   "version": "3.9.12"
  },
  "orig_nbformat": 4,
  "vscode": {
   "interpreter": {
    "hash": "f9754268531114ef921a74141f53a8784542b287a81b4d941f45efc2c5c049ef"
   }
  }
 },
 "nbformat": 4,
 "nbformat_minor": 2
}

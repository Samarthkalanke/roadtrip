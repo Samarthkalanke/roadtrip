{
 "cells": [
  {
   "attachments": {},
   "cell_type": "markdown",
   "metadata": {},
   "source": [
    "CAR DATA"
   ]
  },
  {
   "cell_type": "code",
   "execution_count": 2,
   "metadata": {},
   "outputs": [
    {
     "name": "stdout",
     "output_type": "stream",
     "text": [
      "[{\"id\":9582,\"year\":2008,\"make\":\"Buick\",\"model\":\"Enclave\",\"type\":\"SUV\"},{\"id\":9583,\"year\":2006,\"make\":\"MINI\",\"model\":\"Convertible\",\"type\":\"Convertible\"},{\"id\":9584,\"year\":2019,\"make\":\"Volvo\",\"model\":\"XC90\",\"type\":\"SUV\"},{\"id\":9585,\"year\":1999,\"make\":\"Ford\",\"model\":\"Taurus\",\"type\":\"Sedan, Wagon\"},{\"id\":9586,\"year\":2020,\"make\":\"Volvo\",\"model\":\"XC60\",\"type\":\"SUV\"},{\"id\":9587,\"year\":2006,\"make\":\"HUMMER\",\"model\":\"H2\",\"type\":\"SUV, Pickup\"},{\"id\":9588,\"year\":2016,\"make\":\"GMC\",\"model\":\"Sierra 1500 Crew Cab\",\"type\":\"Pickup\"},{\"id\":9589,\"year\":2008,\"make\":\"GMC\",\"model\":\"Canyon Crew Cab\",\"type\":\"Pickup\"},{\"id\":9590,\"year\":2016,\"make\":\"Subaru\",\"model\":\"Outback\",\"type\":\"SUV\"},{\"id\":9591,\"year\":2010,\"make\":\"Mitsubishi\",\"model\":\"Outlander\",\"type\":\"SUV\"}]\n",
      "[\"SUV\",\"Convertible\",\"Pickup\",\"Van/Minivan\",\"Wagon\",\"Sedan\",\"Coupe\",\"Hatchback\"]\n",
      "[\"Buick\",\"MINI\",\"Volvo\",\"Ford\",\"HUMMER\",\"GMC\",\"Subaru\",\"Mitsubishi\",\"Dodge\",\"Nissan\",\"Honda\",\"Lincoln\",\"Hyundai\",\"BMW\",\"Bentley\",\"Lexus\",\"Chevrolet\",\"Jaguar\",\"Mercedes-Benz\",\"Volkswagen\",\"Aston Martin\",\"Land Rover\",\"Pontiac\",\"Cadillac\",\"FIAT\",\"Saab\",\"Kia\",\"Lamborghini\",\"Audi\",\"Jeep\",\"MAZDA\",\"Suzuki\",\"Toyota\",\"Acura\",\"Saturn\",\"Chrysler\",\"Isuzu\",\"Ferrari\",\"Tesla\",\"INFINITI\",\"Oldsmobile\",\"Ram\",\"Eagle\",\"Porsche\",\"Mercury\",\"Scion\",\"Lotus\",\"Plymouth\",\"Freightliner\",\"Rolls-Royce\",\"SRT\",\"Maybach\",\"Alfa Romeo\",\"Geo\",\"smart\",\"Daewoo\",\"Maserati\",\"Daihatsu\",\"Genesis\",\"McLaren\",\"Fisker\",\"Panoz\"]\n",
      "[2008,2006,2019,1999,2020,2016,2010,1998,2014,2009,2000,2007,2018,1992,2017,2012,2013,1995,2004,1996,2011,2015,2003,1994,2001,2005,1997,1993,2002]\n"
     ]
    }
   ],
   "source": [
    "# TEST\n",
    "import http.client\n",
    "\n",
    "conn = http.client.HTTPSConnection(\"car-data.p.rapidapi.com\")\n",
    "\n",
    "headers = {\n",
    "    'X-RapidAPI-Key': \"669bee5e4bmsh2f92daaaa7f267bp19f60bjsn18857367786d\",\n",
    "    'X-RapidAPI-Host': \"car-data.p.rapidapi.com\"\n",
    "    }\n",
    "\n",
    "conn.request(\"GET\", \"/cars?limit=10&page=0\", headers=headers)\n",
    "\n",
    "res = conn.getresponse()\n",
    "data = res.read()\n",
    "\n",
    "print(data.decode(\"utf-8\"))\n",
    "\n",
    "# TEST\n",
    "import http.client\n",
    "\n",
    "conn = http.client.HTTPSConnection(\"car-data.p.rapidapi.com\")\n",
    "\n",
    "headers = {\n",
    "    'X-RapidAPI-Key': \"669bee5e4bmsh2f92daaaa7f267bp19f60bjsn18857367786d\",\n",
    "    'X-RapidAPI-Host': \"car-data.p.rapidapi.com\"\n",
    "    }\n",
    "\n",
    "conn.request(\"GET\", \"/cars/types\", headers=headers)\n",
    "\n",
    "res = conn.getresponse()\n",
    "data = res.read()\n",
    "\n",
    "print(data.decode(\"utf-8\"))\n",
    "\n",
    "# TEST\n",
    "import http.client\n",
    "\n",
    "conn = http.client.HTTPSConnection(\"car-data.p.rapidapi.com\")\n",
    "\n",
    "headers = {\n",
    "    'X-RapidAPI-Key': \"669bee5e4bmsh2f92daaaa7f267bp19f60bjsn18857367786d\",\n",
    "    'X-RapidAPI-Host': \"car-data.p.rapidapi.com\"\n",
    "    }\n",
    "\n",
    "conn.request(\"GET\", \"/cars/makes\", headers=headers)\n",
    "\n",
    "res = conn.getresponse()\n",
    "data = res.read()\n",
    "\n",
    "print(data.decode(\"utf-8\"))\n",
    "\n",
    "# TEST\n",
    "import http.client\n",
    "\n",
    "conn = http.client.HTTPSConnection(\"car-data.p.rapidapi.com\")\n",
    "\n",
    "headers = {\n",
    "    'X-RapidAPI-Key': \"669bee5e4bmsh2f92daaaa7f267bp19f60bjsn18857367786d\",\n",
    "    'X-RapidAPI-Host': \"car-data.p.rapidapi.com\"\n",
    "    }\n",
    "\n",
    "conn.request(\"GET\", \"/cars/years\", headers=headers)\n",
    "\n",
    "res = conn.getresponse()\n",
    "data = res.read()\n",
    "\n",
    "print(data.decode(\"utf-8\"))"
   ]
  }
 ],
 "metadata": {
  "kernelspec": {
   "display_name": "Python 3.9.12 ('base')",
   "language": "python",
   "name": "python3"
  },
  "language_info": {
   "codemirror_mode": {
    "name": "ipython",
    "version": 3
   },
   "file_extension": ".py",
   "mimetype": "text/x-python",
   "name": "python",
   "nbconvert_exporter": "python",
   "pygments_lexer": "ipython3",
   "version": "3.9.12"
  },
  "orig_nbformat": 4,
  "vscode": {
   "interpreter": {
    "hash": "40d3a090f54c6569ab1632332b64b2c03c39dcf918b08424e98f38b5ae0af88f"
   }
  }
 },
 "nbformat": 4,
 "nbformat_minor": 2
}
